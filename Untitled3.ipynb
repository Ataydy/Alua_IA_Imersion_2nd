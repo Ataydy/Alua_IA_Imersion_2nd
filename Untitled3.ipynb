{
  "nbformat": 4,
  "nbformat_minor": 0,
  "metadata": {
    "colab": {
      "provenance": [],
      "authorship_tag": "ABX9TyN16wpDFRH1qNUXSwOp/ccS",
      "include_colab_link": true
    },
    "kernelspec": {
      "name": "python3",
      "display_name": "Python 3"
    },
    "language_info": {
      "name": "python"
    }
  },
  "cells": [
    {
      "cell_type": "markdown",
      "metadata": {
        "id": "view-in-github",
        "colab_type": "text"
      },
      "source": [
        "<a href=\"https://colab.research.google.com/github/Ataydy/Alua_IA_Imersion_2nd/blob/main/Untitled3.ipynb\" target=\"_parent\"><img src=\"https://colab.research.google.com/assets/colab-badge.svg\" alt=\"Open In Colab\"/></a>"
      ]
    },
    {
      "cell_type": "code",
      "source": [
        "# Etapa 1: Configuração do ambiente e importação das bibliotecas necessárias\n",
        "import requests\n",
        "import json\n",
        "\n",
        "# Etapa 2: Integração com a API do Google AI Studio\n",
        "def google_ai_response(query, api_key):\n",
        "    url = \"https://api.studio.googleapis.com/v1/documents:analyzeSentiment?key=\" + api_key\n",
        "    headers = {'Content-Type': 'application/json'}\n",
        "    data = {\n",
        "        \"document\": {\n",
        "            \"content\": query,\n",
        "            \"type\": \"PLAIN_TEXT\"\n",
        "        }\n",
        "    }\n",
        "    response = requests.post(url, headers=headers, json=data)\n",
        "    return response.json()\n",
        "\n",
        "# Etapa 3: Obtenção da localização do usuário (simulado)\n",
        "def get_user_location():\n",
        "    # Simulando a obtenção da localização do usuário através do IP\n",
        "    # return \"Porto Alegre, RS\"\n",
        "    location = input(\"Por favor, informe sua cidade e estado (ex: Porto Alegre, RS): \")\n",
        "    return location\n",
        "\n",
        "# Etapa 4: Informações sobre as enchentes no Rio Grande do Sul\n",
        "def get_flood_info(location):\n",
        "    # Aqui você pode integrar com alguma fonte confiável de informações sobre enchentes\n",
        "    # Para este exemplo, vamos apenas simular uma resposta\n",
        "    return \"As enchentes em {} estão atualmente controladas.\".format(location)\n",
        "\n",
        "# Etapa 5: Verificação de pontos oficiais de coleta de doações\n",
        "def get_donation_points(location):\n",
        "    # Aqui você pode integrar com alguma fonte confiável de informações sobre pontos de coleta de doações\n",
        "    # Para este exemplo, vamos apenas simular uma resposta\n",
        "    return \"Não há pontos de coleta de doações em {}.\".format(location)\n",
        "\n",
        "# Etapa 6: Interação com o usuário\n",
        "def chatbox_interaction():\n",
        "    user_location = get_user_location()\n",
        "    flood_info = get_flood_info(user_location)\n",
        "    donation_points = get_donation_points(user_location)\n",
        "\n",
        "    # Simulando a interação com o usuário\n",
        "    print(\"Olá! Sou uma IA aqui para ajudá-lo com informações sobre as enchentes no Rio Grande do Sul.\")\n",
        "    print(\"Atualmente, em {}, {}\".format(user_location, flood_info))\n",
        "    print(donation_points)\n",
        "\n",
        "    while True:\n",
        "        user_query = input(\"Como posso ajudá-lo ainda mais? (Digite 'sair' para encerrar): \")\n",
        "        if user_query.lower() == 'sair':\n",
        "            break\n",
        "\n",
        "        # Aqui você pode usar a API do Google AI Studio (google_ai_response)\n",
        "        # para processar a pergunta do usuário e fornecer uma resposta mais adequada.\n",
        "        # Exemplo:\n",
        "        # sentiment = google_ai_response(user_query, api_key)\n",
        "        # print(f\"Sentimento detectado: {sentiment}\")\n",
        "\n",
        "        print(\"Funcionalidade em desenvolvimento. Por favor, tente outra pergunta.\")\n",
        "\n",
        "# Etapa final: Chamada da função para interagir com o usuário\n",
        "api_key = \"SUA_API_KEY_DO_GOOGLE_AI_STUDIO\"\n",
        "chatbox_interaction()"
      ],
      "metadata": {
        "colab": {
          "base_uri": "https://localhost:8080/"
        },
        "id": "DTOt3t7NDSfe",
        "outputId": "e2bcbc64-49db-408b-d5c7-3fade450a081"
      },
      "execution_count": 20,
      "outputs": [
        {
          "name": "stdout",
          "output_type": "stream",
          "text": [
            "Por favor, informe sua cidade e estado (ex: Porto Alegre, RS): RS\n",
            "Olá! Sou uma IA aqui para ajudá-lo com informações sobre as enchentes no Rio Grande do Sul.\n",
            "Atualmente, em RS, As enchentes em RS estão atualmente controladas.\n",
            "Não há pontos de coleta de doações em RS.\n",
            "Como posso ajudá-lo ainda mais? (Digite 'sair' para encerrar): Sair\n"
          ]
        }
      ]
    }
  ]
}